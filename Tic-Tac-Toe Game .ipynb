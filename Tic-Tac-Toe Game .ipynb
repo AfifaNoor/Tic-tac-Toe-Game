{
 "cells": [
  {
   "cell_type": "code",
   "execution_count": null,
   "id": "8c5d6ed7",
   "metadata": {},
   "outputs": [],
   "source": [
    "player1=input(\"Enter your name: \")\n",
    "player2=input(\"Enter your name: \")\n",
    "\n",
    "print(f'Welcome {player1} and {player2} to Tic-Tac-Toe Game.')\n",
    "\n",
    "instructions=\"\"\"\n",
    "This is your Tic-Tac-Toe Game Board.\n",
    "\n",
    "  1  |  2  |  3  \n",
    "-----|-----|-----\n",
    "  4  |  5  |  6\n",
    "-----|-----|-----    \n",
    "  7  |  8  |  9\n",
    "\n",
    "Instructions:\n",
    "1.Enter number between (1-9) according to the position of every box.\n",
    "2.You must fill all the box of the board.\n",
    "3.Player 1 will go first as an X.\"\"\"\n",
    "\n",
    "\n",
    "\n",
    "\n",
    "print(instructions)\n",
    "\n",
    "\n",
    "board=['-','-','-','-','-','-','-','-','-']\n",
    "\n",
    "\n",
    "def display_board():\n",
    "    print(f\"{board[0]} + | +{board[1]} + | + {board[2]}\")\n",
    "    print(\"----|----|----\")\n",
    "    print(f\"{board[3]} + | +{board[4]} + | + {board[5]}\")\n",
    "    print(\"----|----|----\")\n",
    "    print(f\"{board[6]} + | +{board[7]} + | + {board[8]}\")\n",
    "\n",
    "def check_win(board):\n",
    "    player1='X'\n",
    "    player2='O'\n",
    "    win=[[0,1,2],[3,4,5],[6,7,8],[0,3,6],[1,4,7],[2,5,8],[0,4,8],[2,4,6]]\n",
    "    if player1 == win:\n",
    "        print(\"Player1 Won.\")\n",
    "    elif player2==win:\n",
    "        print( \"Player2 Won.\")\n",
    "    else:\n",
    "        print(\"Draw.\")\n",
    "display_board()\n",
    "\n",
    "\n",
    "\n",
    "    \n",
    "    \n",
    "    "
   ]
  },
  {
   "cell_type": "code",
   "execution_count": null,
   "id": "a4ab27a2",
   "metadata": {},
   "outputs": [],
   "source": []
  }
 ],
 "metadata": {
  "kernelspec": {
   "display_name": "Python 3 (ipykernel)",
   "language": "python",
   "name": "python3"
  },
  "language_info": {
   "codemirror_mode": {
    "name": "ipython",
    "version": 3
   },
   "file_extension": ".py",
   "mimetype": "text/x-python",
   "name": "python",
   "nbconvert_exporter": "python",
   "pygments_lexer": "ipython3",
   "version": "3.9.13"
  }
 },
 "nbformat": 4,
 "nbformat_minor": 5
}
